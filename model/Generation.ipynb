{
 "cells": [
  {
   "cell_type": "code",
   "execution_count": 144,
   "id": "b333cdec-6bb5-41d4-8794-5f7576fda0f7",
   "metadata": {},
   "outputs": [
    {
     "name": "stdout",
     "output_type": "stream",
     "text": [
      "Data has been written to Quiz_Question_Data_2.csv\n"
     ]
    }
   ],
   "source": [
    "import random\n",
    "import csv\n",
    "import numpy as np\n",
    "\n",
    "import random\n",
    "import numpy as np\n",
    "\n",
    "def generate_row(skill_level):\n",
    "    question_difficulty = round(random.uniform(1, 10), 2)\n",
    "    topic_difficulty = round(random.uniform(1, 10), 2)\n",
    "    noise = np.random.normal(0, 0.01)\n",
    "    total_difficulty = (question_difficulty + topic_difficulty)\n",
    "\n",
    "    # Adjust the score based on difficulty\n",
    "    if skill_level == \"Advanced\":\n",
    "        # Advanced learners are less affected by difficulty\n",
    "        difficulty_penalty = total_difficulty * 2  # Apply a smaller penalty for high skill level\n",
    "        score = 100 - difficulty_penalty  # Small bonus for advanced\n",
    "        time_taken = round(random.uniform(0.03, 0.2), 5) + noise\n",
    "    elif skill_level == \"Intermediate\":\n",
    "        # Intermediate learners have a moderate penalty based on difficulty\n",
    "        difficulty_penalty = total_difficulty * 3  # Moderate penalty for intermediate learners\n",
    "        score = 100 - difficulty_penalty # Small bonus for intermediate\n",
    "        time_taken = round(random.uniform(0.1, 0.35), 5) + noise\n",
    "    else:  # Beginner\n",
    "        # Beginners are highly affected by difficulty\n",
    "        difficulty_penalty = total_difficulty * 4  # Larger penalty for beginners\n",
    "        score = 100 - difficulty_penalty  # Larger penalty for beginner\n",
    "        time_taken = round(random.uniform(0.2, 0.65), 5) + noise\n",
    "\n",
    "    # Ensure the score is between 0 and 100\n",
    "    score = min(100, max(0, score))\n",
    "\n",
    "    return [time_taken, question_difficulty, topic_difficulty, f\"{score}%\", skill_level]\n",
    "\n",
    "# Weighted class distribution\n",
    "data = []\n",
    "for _ in range(10000):\n",
    "    skill = random.choices(\n",
    "        [\"Advanced\", \"Intermediate\", \"Beginner\"],\n",
    "        weights=[0.3, 0.4, 0.3], \n",
    "        k=1\n",
    "    )[0]\n",
    "    data.append(generate_row(skill))\n",
    "\n",
    "# Write to CSV\n",
    "filename = \"Quiz_Question_Data_2.csv\"\n",
    "with open(filename, mode='w', newline='') as file:\n",
    "    writer = csv.writer(file)\n",
    "    writer.writerow([\"Time Taken (QNS/Minutes)\", \"Question Difficulty\", \"Topic Difficulty\", \"Score\", \"Skill Level\"])\n",
    "    writer.writerows(data)\n",
    "\n",
    "print(f\"Data has been written to {filename}\")"
   ]
  },
  {
   "cell_type": "code",
   "execution_count": null,
   "id": "ed96aa29-9b7a-4377-99b0-5c5e5dcecac2",
   "metadata": {},
   "outputs": [],
   "source": []
  },
  {
   "cell_type": "code",
   "execution_count": null,
   "id": "f50e8653-9253-4759-8ab0-1c108445b162",
   "metadata": {},
   "outputs": [],
   "source": []
  }
 ],
 "metadata": {
  "kernelspec": {
   "display_name": "Python 3 (ipykernel)",
   "language": "python",
   "name": "python3"
  },
  "language_info": {
   "codemirror_mode": {
    "name": "ipython",
    "version": 3
   },
   "file_extension": ".py",
   "mimetype": "text/x-python",
   "name": "python",
   "nbconvert_exporter": "python",
   "pygments_lexer": "ipython3",
   "version": "3.12.7"
  }
 },
 "nbformat": 4,
 "nbformat_minor": 5
}
