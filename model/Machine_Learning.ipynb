{
 "cells": [
  {
   "cell_type": "code",
   "execution_count": 821,
   "id": "50cbb4db-0e62-4dad-aebd-aac095456a71",
   "metadata": {},
   "outputs": [
    {
     "name": "stdout",
     "output_type": "stream",
     "text": [
      "Collecting xgboost\n",
      "  Downloading xgboost-2.1.3-py3-none-win_amd64.whl.metadata (2.1 kB)\n",
      "Requirement already satisfied: numpy in c:\\users\\admin\\anaconda3\\lib\\site-packages (from xgboost) (1.26.4)\n",
      "Requirement already satisfied: scipy in c:\\users\\admin\\anaconda3\\lib\\site-packages (from xgboost) (1.13.1)\n",
      "Downloading xgboost-2.1.3-py3-none-win_amd64.whl (124.9 MB)\n",
      "   ---------------------------------------- 0.0/124.9 MB ? eta -:--:--\n",
      "   ---------------------------------------- 0.0/124.9 MB ? eta -:--:--\n",
      "   ---------------------------------------- 0.5/124.9 MB 3.4 MB/s eta 0:00:38\n",
      "   - -------------------------------------- 3.1/124.9 MB 9.7 MB/s eta 0:00:13\n",
      "   -- ------------------------------------- 9.2/124.9 MB 17.8 MB/s eta 0:00:07\n",
      "   ---- ----------------------------------- 13.4/124.9 MB 18.3 MB/s eta 0:00:07\n",
      "   ------ --------------------------------- 21.2/124.9 MB 24.9 MB/s eta 0:00:05\n",
      "   --------- ------------------------------ 30.9/124.9 MB 27.7 MB/s eta 0:00:04\n",
      "   ------------ --------------------------- 39.6/124.9 MB 29.6 MB/s eta 0:00:03\n",
      "   --------------- ------------------------ 48.2/124.9 MB 31.3 MB/s eta 0:00:03\n",
      "   ------------------ --------------------- 56.4/124.9 MB 32.4 MB/s eta 0:00:03\n",
      "   -------------------- ------------------- 64.0/124.9 MB 32.4 MB/s eta 0:00:02\n",
      "   ----------------------- ---------------- 73.7/124.9 MB 33.6 MB/s eta 0:00:02\n",
      "   -------------------------- ------------- 83.6/124.9 MB 34.9 MB/s eta 0:00:02\n",
      "   --------------------------- ------------ 86.2/124.9 MB 35.3 MB/s eta 0:00:02\n",
      "   ------------------------------- -------- 97.5/124.9 MB 35.0 MB/s eta 0:00:01\n",
      "   ------------------------------- -------- 97.8/124.9 MB 32.3 MB/s eta 0:00:01\n",
      "   ----------------------------------- --- 112.2/124.9 MB 34.4 MB/s eta 0:00:01\n",
      "   ----------------------------------- --- 114.8/124.9 MB 34.6 MB/s eta 0:00:01\n",
      "   --------------------------------------  124.0/124.9 MB 34.4 MB/s eta 0:00:01\n",
      "   --------------------------------------- 124.9/124.9 MB 32.3 MB/s eta 0:00:00\n",
      "Installing collected packages: xgboost\n",
      "Successfully installed xgboost-2.1.3\n",
      "Note: you may need to restart the kernel to use updated packages.\n"
     ]
    }
   ],
   "source": [
    "pip install xgboost"
   ]
  },
  {
   "cell_type": "code",
   "execution_count": 825,
   "id": "f95ed9e1-3681-4693-a992-308c36a82f47",
   "metadata": {},
   "outputs": [],
   "source": [
    "import numpy as np\n",
    "import pandas as pd\n",
    "import matplotlib.pyplot as plt\n",
    "from sklearn.ensemble import RandomForestClassifier\n",
    "from sklearn.model_selection import RandomizedSearchCV,train_test_split\n",
    "from sklearn.metrics import mean_squared_error, r2_score\n",
    "from sklearn.preprocessing import LabelEncoder\n",
    "from sklearn.metrics import accuracy_score , classification_report\n",
    "from sklearn.preprocessing import StandardScaler\n",
    "from sklearn.ensemble import GradientBoostingClassifier\n",
    "from xgboost import XGBClassifier"
   ]
  },
  {
   "cell_type": "code",
   "execution_count": 786,
   "id": "960c3144-0d85-4c59-825c-853cc5e4942f",
   "metadata": {},
   "outputs": [],
   "source": [
    "data = pd.read_csv('Quiz_Question_Data_2.csv')"
   ]
  },
  {
   "cell_type": "code",
   "execution_count": 788,
   "id": "c0c10de2-a2e9-42c7-94f4-5ea7de155b99",
   "metadata": {},
   "outputs": [],
   "source": [
    "skill_mapping = {'Beginner': 0, 'Intermediate': 1, 'Advanced': 2}\n",
    "data['Skill_Level_encoded'] = data['Skill Level'].map(skill_mapping)\n",
    "\n",
    "# Multiply the 'Time Taken (QNS/Minutes)' column by 60 to convert to seconds\n",
    "data['Time Taken (QNS/Seconds)'] = (data['Time Taken (QNS/Minutes)'] * 60).round(4)\n",
    "\n",
    "# Drop the original 'Time Taken (QNS/Minutes)' column\n",
    "data.drop(columns=['Time Taken (QNS/Minutes)'], inplace=True)\n",
    "\n",
    "# Optionally, save the modified data back to a new Excel file\n",
    "data.to_csv('modified_file.csv', index=False)"
   ]
  },
  {
   "cell_type": "code",
   "execution_count": 790,
   "id": "8f899771-6d50-4084-8b57-6b563493fbfd",
   "metadata": {},
   "outputs": [
    {
     "name": "stdout",
     "output_type": "stream",
     "text": [
      "Question Difficulty         0\n",
      "Topic Difficulty            0\n",
      "Score                       0\n",
      "Skill Level                 0\n",
      "Skill_Level_encoded         0\n",
      "Time Taken (QNS/Seconds)    0\n",
      "dtype: int64\n",
      "No missing values in the dataset.\n"
     ]
    }
   ],
   "source": [
    "import pandas as pd\n",
    "\n",
    "# Check for missing values in the entire dataset\n",
    "missing_data = data.isnull().sum()\n",
    "print(missing_data)\n",
    "\n",
    "# Check if there are any missing values\n",
    "if data.isnull().values.any():\n",
    "    print(\"There are missing values in the dataset.\")\n",
    "else:\n",
    "    print(\"No missing values in the dataset.\")\n",
    "\n",
    "data = data.dropna()"
   ]
  },
  {
   "cell_type": "code",
   "execution_count": 809,
   "id": "e3e9af75-3af5-4ded-a45e-97915564d111",
   "metadata": {},
   "outputs": [
    {
     "name": "stdout",
     "output_type": "stream",
     "text": [
      "Training set size: (8000, 3)\n",
      "Testing set size: (2000, 3)\n",
      "Fitting 5 folds for each of 100 candidates, totalling 500 fits\n",
      "Best parameters: {'n_estimators': 350, 'min_samples_split': 30, 'min_samples_leaf': 3, 'max_features': 'log2', 'max_depth': 10, 'bootstrap': True}\n"
     ]
    }
   ],
   "source": [
    "data = pd.read_csv('modified_file.csv')\n",
    "X = data[['Time Taken (QNS/Seconds)', 'Question Difficulty', 'Topic Difficulty']]\n",
    "Y = data['Skill_Level_encoded']\n",
    "\n",
    "X_train, X_test, y_train, y_test = train_test_split(X, Y, test_size=0.2, random_state=42)\n",
    "\n",
    "print(\"Training set size:\", X_train.shape)\n",
    "print(\"Testing set size:\", X_test.shape)\n",
    "\n",
    "scaler = StandardScaler()\n",
    "X_train_scaled = scaler.fit_transform(X_train)\n",
    "X_test_scaled = scaler.transform(X_test)\n",
    "\n",
    "rf = RandomForestClassifier(random_state=42) \n",
    "param_grid = {\n",
    "    'n_estimators': [350, 380, 400],\n",
    "    'max_depth': [10, 15, 20],\n",
    "    'max_features': ['log2','None,'sqrt'],\n",
    "    'min_samples_split': [15,20,25],\n",
    "    'min_samples_leaf': [3, 5, 8],\n",
    "    'bootstrap': [True,False]\n",
    "}\n",
    "random_search = RandomizedSearchCV(estimator=rf, param_distributions=param_grid, n_iter=100, random_state=42, n_jobs=-1, verbose=2)\n",
    "\n",
    "random_search.fit(X_train_scaled, y_train)\n",
    "print(\"Best parameters:\", random_search.best_params_)\n",
    "\n",
    "model = random_search.best_estimator_\n",
    "y_pred = model.predict(X_test_scaled)"
   ]
  },
  {
   "cell_type": "code",
   "execution_count": 813,
   "id": "e531754b-4a21-48de-acf7-23ad3c78f6a3",
   "metadata": {},
   "outputs": [
    {
     "name": "stdout",
     "output_type": "stream",
     "text": [
      "Accuracy: 72.25%\n"
     ]
    }
   ],
   "source": [
    "accuracy = accuracy_score(y_test, y_pred)\n",
    "print(f\"Accuracy: {accuracy * 100:.2f}%\")"
   ]
  },
  {
   "cell_type": "code",
   "execution_count": null,
   "id": "0e02275a-cbb7-4827-8962-3d5262b73643",
   "metadata": {},
   "outputs": [],
   "source": []
  }
 ],
 "metadata": {
  "kernelspec": {
   "display_name": "Python 3 (ipykernel)",
   "language": "python",
   "name": "python3"
  },
  "language_info": {
   "codemirror_mode": {
    "name": "ipython",
    "version": 3
   },
   "file_extension": ".py",
   "mimetype": "text/x-python",
   "name": "python",
   "nbconvert_exporter": "python",
   "pygments_lexer": "ipython3",
   "version": "3.12.7"
  }
 },
 "nbformat": 4,
 "nbformat_minor": 5
}
